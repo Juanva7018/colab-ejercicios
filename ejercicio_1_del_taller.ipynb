{
  "nbformat": 4,
  "nbformat_minor": 0,
  "metadata": {
    "colab": {
      "provenance": [],
      "authorship_tag": "ABX9TyOItWIxQYdD5YEkxgtxObwh",
      "include_colab_link": true
    },
    "kernelspec": {
      "name": "python3",
      "display_name": "Python 3"
    },
    "language_info": {
      "name": "python"
    }
  },
  "cells": [
    {
      "cell_type": "markdown",
      "metadata": {
        "id": "view-in-github",
        "colab_type": "text"
      },
      "source": [
        "<a href=\"https://colab.research.google.com/github/Juanva7018/colab-ejercicios/blob/main/ejercicio_1_del_taller.ipynb\" target=\"_parent\"><img src=\"https://colab.research.google.com/assets/colab-badge.svg\" alt=\"Open In Colab\"/></a>"
      ]
    },
    {
      "cell_type": "code",
      "execution_count": null,
      "metadata": {
        "colab": {
          "base_uri": "https://localhost:8080/"
        },
        "id": "cXFzupQyfxrI",
        "outputId": "341b9295-4d9d-4ba2-b123-3ab422b8c1d8"
      },
      "outputs": [
        {
          "output_type": "stream",
          "name": "stdout",
          "text": [
            "ingrese su nombre completo: juan\n",
            "ingrese su edad: 20\n",
            "cargo(analista/gerente/asistente): asistente\n",
            "ingrese sus años de experiencia :0\n",
            "ingrese el salario base: 2000000\n",
            "se aplico un impuesto del 10%: 0 sobre la bonificacion\n",
            "  RESUMEN DEL EMPLEADO  \n",
            "nombre: juan ,edad: 20 , cargo : asistente, añosDeExperiencia : 0 ,salario : 2000000.0, bonificacion final : 0 \n"
          ]
        }
      ],
      "source": [
        "nombre=input(\"ingrese su nombre completo: \")\n",
        "\n",
        "edad=int(input(\"ingrese su edad: \"))\n",
        "\n",
        "cargo=input(\"cargo(analista/gerente/asistente): \").lower()\n",
        "\n",
        "añosDeExperiencia=int(input(\"ingrese sus años de experiencia :\"))\n",
        "\n",
        "salario=float(input(\"ingrese el salario base: \"))\n",
        "\n",
        "bonificacion=0\n",
        "impuesto=0\n",
        "cargo_valido=True\n",
        "\n",
        "if(edad<18) or (edad>65):\n",
        "  print(f\"{nombre} no es elegible para bonificaciones\")\n",
        "  cargo_valido=False\n",
        "\n",
        "else:\n",
        "  if(cargo==\"gerente\"):\n",
        "\n",
        "    if(añosDeExperiencia>5):\n",
        "      bonificacion=salario*0.2\n",
        "    elif(3<=añosDeExperiencia<=5):\n",
        "      bonificacion=salario*0.15\n",
        "    else:\n",
        "      bonificacion=salario*0.10\n",
        "\n",
        "  elif(cargo==\"analista\"):\n",
        "    if(añosDeExperiencia>5):\n",
        "      bonificacion=salario*0.15\n",
        "    elif(2<=añosDeExperiencia<=5):\n",
        "      bonificacion=salario*0.10\n",
        "    else:\n",
        "      bonificacion=salario*0.05\n",
        "\n",
        "  elif(cargo==\"asistente\"):\n",
        "    if(añosDeExperiencia>5):\n",
        "      bonificacion=salario*0.10\n",
        "    elif(1<=añosDeExperiencia<=5):\n",
        "      bonificacion=salario*0.07\n",
        "    else:\n",
        "      bonificacion=0\n",
        "  else:\n",
        "    print(\"no esta registrado ese cargo por lo que no se puede calcular las bonificaciones\")\n",
        "    cargo_valido=False\n",
        "\n",
        "  if cargo_valido:\n",
        "    if(salario>5000000) and (bonificacion>500000):\n",
        "      impuesto=bonificacion*0.10\n",
        "      bonificacion=bonificacion-impuesto\n",
        "    print(f\"se aplico un impuesto del 10%: {impuesto} sobre la bonificacion\")\n",
        "  else:\n",
        "      print(\"no se cobro impuestos\")\n",
        "\n",
        "  print(\"  RESUMEN DEL EMPLEADO  \")\n",
        "  print(f\"nombre: {nombre} ,edad: {edad} , cargo : {cargo}, añosDeExperiencia : {añosDeExperiencia} ,salario : {salario}, bonificacion final : {bonificacion} \")\n",
        "\n",
        "\n",
        "\n",
        "\n",
        "\n",
        "\n",
        "\n",
        "\n",
        "\n",
        "\n",
        "\n",
        "\n",
        "\n",
        "\n"
      ]
    },
    {
      "cell_type": "code",
      "source": [
        "nombre = input(\"Ingrese su nombre completo: \")\n",
        "edad = int(input(\"Ingrese su edad: \"))\n",
        "cargo = input(\"Cargo (Analista/Gerente/Asistente): \").lower()\n",
        "añosDeExperiencia = int(input(\"Ingrese sus años de experiencia: \"))\n",
        "salario = float(input(\"Ingrese el salario base: \"))\n",
        "\n",
        "bonificacion = 0\n",
        "impuesto = 0\n",
        "cargo_valido = True\n",
        "\n",
        "if edad < 18 or edad > 65:\n",
        "    print(f\"{nombre} no es elegible para bonificaciones\")\n",
        "    cargo_valido = False\n",
        "else:\n",
        "    if cargo == \"gerente\":\n",
        "        if añosDeExperiencia > 5:\n",
        "            bonificacion = salario * 0.2\n",
        "        elif 3 <= añosDeExperiencia <= 5:\n",
        "            bonificacion = salario * 0.15\n",
        "        else:\n",
        "            bonificacion = salario * 0.10\n",
        "\n",
        "    elif cargo == \"analista\":\n",
        "        if añosDeExperiencia > 5:\n",
        "            bonificacion = salario * 0.15\n",
        "        elif 2 <= añosDeExperiencia <= 5:\n",
        "            bonificacion = salario * 0.10\n",
        "        else:\n",
        "            bonificacion = salario * 0.05\n",
        "\n",
        "    elif cargo == \"asistente\":\n",
        "        if añosDeExperiencia > 5:\n",
        "            bonificacion = salario * 0.10\n",
        "        elif 1 <= añosDeExperiencia <= 5:\n",
        "            bonificacion = salario * 0.07\n",
        "        else:\n",
        "            bonificacion = 0\n",
        "    else:\n",
        "        print(\"No está registrado ese cargo, por lo que no se puede calcular las bonificaciones\")\n",
        "        cargo_valido = False\n",
        "\n",
        "    if cargo_valido and salario > 5000000 and bonificacion > 500000:\n",
        "        impuesto = bonificacion * 0.10\n",
        "        bonificacion -= impuesto\n",
        "        print(f\"Se aplicó un impuesto del 10%: {impuesto} sobre la bonificación\")\n",
        "\n",
        "if cargo_valido:\n",
        "    print(\"\\n  RESUMEN DEL EMPLEADO  \")\n",
        "    print(f\"Nombre: {nombre} | Edad: {edad} | Cargo: {cargo}\")\n",
        "    print(f\"Años de Experiencia: {añosDeExperiencia} | Salario: {salario}\")\n",
        "    print(f\"Bonificación final: {bonificacion}\")\n"
      ],
      "metadata": {
        "id": "hOtb-jzaOZRW",
        "colab": {
          "base_uri": "https://localhost:8080/"
        },
        "outputId": "75656e46-e994-4ef9-9748-c251fa2a391d"
      },
      "execution_count": null,
      "outputs": [
        {
          "output_type": "stream",
          "name": "stdout",
          "text": [
            "Ingrese su nombre completo: juan diego\n",
            "Ingrese su edad: 20\n",
            "Cargo (Analista/Gerente/Asistente): analista\n",
            "Ingrese sus años de experiencia: 4\n",
            "Ingrese el salario base: 70000000\n",
            "Se aplicó un impuesto del 10%: 700000.0 sobre la bonificación\n",
            "\n",
            "  RESUMEN DEL EMPLEADO  \n",
            "Nombre: juan diego | Edad: 20 | Cargo: analista\n",
            "Años de Experiencia: 4 | Salario: 70000000.0\n",
            "Bonificación final: 6300000.0\n"
          ]
        }
      ]
    }
  ]
}